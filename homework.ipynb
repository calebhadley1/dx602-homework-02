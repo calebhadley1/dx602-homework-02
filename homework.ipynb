{
  "cells": [
    {
      "cell_type": "markdown",
      "source": [
        "# DX 602 Week 2 Homework\n",
        "\n"
      ],
      "metadata": {
        "id": "2Tc6KzI4P0To"
      }
    },
    {
      "cell_type": "markdown",
      "source": [
        "## Introduction\n",
        "\n",
        "Practice is a large part of becoming fluent in a programming language.\n",
        "In this module, you will be assigned regular coding homework to practice Python.\n",
        "If these problems seem too easy to you, try to answer them faster, and make sure to check the auto-grader feedback to confirm the correctness of your answers.\n",
        "Like with spoken languages, fluency (speed) is highly correlated with proficiency.\n",
        "But it is important to answer the problems correctly first, then quickly.\n"
      ],
      "metadata": {
        "id": "k2wKrIcJIfd5"
      }
    },
    {
      "cell_type": "markdown",
      "source": [
        "### Submission\n",
        "\n",
        "To submit your homework, take the following steps.\n",
        "\n",
        "1. Save and commit this notebook.\n",
        "2. Push your changes to GitHub.\n",
        "3. Confirm that your changes are visible in GitHub.\n",
        "4. Delete the codespace to avoid wasting your free quota.\n",
        "\n",
        "The auto-grading process usually completes within a few minutes of pushing to GitHub, but occasionally can take several minutes to an hour.\n",
        "If you submit your homework early enough, you may review the auto-grading results and fix any mistakes before the deadline.\n"
      ],
      "metadata": {
        "id": "HURgoU0vIiRa"
      }
    },
    {
      "cell_type": "markdown",
      "source": [
        "## Problems"
      ],
      "metadata": {
        "id": "DqktefzNLKSa"
      }
    },
    {
      "cell_type": "markdown",
      "source": [
        "### Problem 1\n",
        "\n",
        "Set `p1` to the name of your favorite animal.\n"
      ],
      "metadata": {
        "id": "Bpes88-pI4VD"
      }
    },
    {
      "cell_type": "code",
      "execution_count": 1,
      "source": [
        "# YOUR CHANGES HERE\n",
        "\n",
        "p1 = \"gecko\""
      ],
      "outputs": [],
      "metadata": {
        "id": "VBT9VpsGLjCm"
      }
    },
    {
      "cell_type": "code",
      "execution_count": 2,
      "source": [
        "p1"
      ],
      "outputs": [
        {
          "output_type": "execute_result",
          "data": {
            "text/plain": [
              "'gecko'"
            ]
          },
          "metadata": {},
          "execution_count": 2
        }
      ],
      "metadata": {
        "id": "le4QiP_mMNsS"
      }
    },
    {
      "cell_type": "markdown",
      "source": [
        "### Problem 2\n",
        "\n",
        "Set `p2` to the 3rd element of `q2`."
      ],
      "metadata": {
        "id": "83qzQmAxJBHx"
      }
    },
    {
      "cell_type": "code",
      "execution_count": 3,
      "source": [
        "# DO NOT CHANGE\n",
        "\n",
        "q2 = [2, 3, 5, 7, 11, 13, 17, 19, 23]"
      ],
      "outputs": [],
      "metadata": {
        "id": "5Ui_1NK6Lbsf"
      }
    },
    {
      "cell_type": "code",
      "execution_count": 6,
      "source": [
        "# YOUR CHANGES HERE\n",
        "\n",
        "p2 = q2[2]"
      ],
      "outputs": [],
      "metadata": {
        "id": "NYZZPanuLfLt"
      }
    },
    {
      "cell_type": "code",
      "execution_count": 7,
      "source": [
        "p2"
      ],
      "outputs": [
        {
          "output_type": "execute_result",
          "data": {
            "text/plain": [
              "5"
            ]
          },
          "metadata": {},
          "execution_count": 7
        }
      ],
      "metadata": {
        "id": "qA7S3vqHMOg5"
      }
    },
    {
      "cell_type": "markdown",
      "source": [
        "### Problem 3\n",
        "\n",
        "Set `p3` to the length of `q3`."
      ],
      "metadata": {
        "id": "9oDdedHWJBCD"
      }
    },
    {
      "cell_type": "code",
      "execution_count": 8,
      "source": [
        "# DO NOT CHANGE\n",
        "\n",
        "q3 = [iter for i in range(1000) if i % 5 == 0 and i % 4 == 0]"
      ],
      "outputs": [],
      "metadata": {
        "id": "_p_8E1EILsrw"
      }
    },
    {
      "cell_type": "code",
      "execution_count": 9,
      "source": [
        "# YOUR CHANGES HERE\n",
        "\n",
        "p3 = len(q3)"
      ],
      "outputs": [],
      "metadata": {
        "id": "Pl5pBT5OL1xl"
      }
    },
    {
      "cell_type": "code",
      "execution_count": 10,
      "source": [
        "p3"
      ],
      "outputs": [
        {
          "output_type": "execute_result",
          "data": {
            "text/plain": [
              "50"
            ]
          },
          "metadata": {},
          "execution_count": 10
        }
      ],
      "metadata": {
        "id": "KrUCeN0BMPO9"
      }
    },
    {
      "cell_type": "markdown",
      "source": [
        "### Problem 4\n",
        "\n",
        "Set `p4` to the last element of `q4`."
      ],
      "metadata": {
        "id": "AA0nlfIzJA7-"
      }
    },
    {
      "cell_type": "code",
      "execution_count": 12,
      "source": [
        "# DO NOT CHANGE\n",
        "\n",
        "q4 = [i for i in range(1000) if i % 5 != 0 and i % 3 != 0 and i % 2 != 0]"
      ],
      "outputs": [],
      "metadata": {
        "id": "zAzSWnGTL8Rv"
      }
    },
    {
      "cell_type": "code",
      "execution_count": 13,
      "source": [
        "# YOUR CHANGES HERE\n",
        "\n",
        "p4 = q4[-1]"
      ],
      "outputs": [],
      "metadata": {
        "id": "o9hlg5JxMFcc"
      }
    },
    {
      "cell_type": "code",
      "execution_count": 14,
      "source": [
        "p4"
      ],
      "outputs": [
        {
          "output_type": "execute_result",
          "data": {
            "text/plain": [
              "997"
            ]
          },
          "metadata": {},
          "execution_count": 14
        }
      ],
      "metadata": {
        "id": "SM3eGgAGMQAy"
      }
    },
    {
      "cell_type": "markdown",
      "source": [
        "### Problem 5\n",
        "\n",
        "Sort `p5` in reverse order.\n"
      ],
      "metadata": {
        "id": "-gH3CZv7JA16"
      }
    },
    {
      "cell_type": "code",
      "execution_count": 15,
      "source": [
        "# DO NOT CHANGE\n",
        "\n",
        "p5 = [7, 1, 3, 6, 8, 123]"
      ],
      "outputs": [],
      "metadata": {
        "id": "MTFfUltTMLEl"
      }
    },
    {
      "cell_type": "markdown",
      "source": [
        "Hint: check the documentation for sort."
      ],
      "metadata": {
        "id": "LlVTl91dMO_5"
      }
    },
    {
      "cell_type": "code",
      "execution_count": 16,
      "source": [
        "# YOUR CHANGES HERE\n",
        "p5.sort(reverse=True)"
      ],
      "outputs": [],
      "metadata": {
        "id": "Zk9rnlRBMQaE"
      }
    },
    {
      "cell_type": "code",
      "execution_count": 17,
      "source": [
        "p5"
      ],
      "outputs": [
        {
          "output_type": "execute_result",
          "data": {
            "text/plain": [
              "[123, 8, 7, 6, 3, 1]"
            ]
          },
          "metadata": {},
          "execution_count": 17
        }
      ],
      "metadata": {
        "id": "srrF7ISYMQ3U"
      }
    },
    {
      "cell_type": "markdown",
      "source": [
        "### Problem 6\n",
        "\n",
        "Set `p6` to be the last 3 elements of `q6`."
      ],
      "metadata": {
        "id": "Yg-BAxCwJAwO"
      }
    },
    {
      "cell_type": "code",
      "execution_count": 18,
      "source": [
        "# DO NOT CHANGE\n",
        "\n",
        "q6 = [\"a\", 3, \"bc\", 4, \"def\", 5, \"ghij\", 6]"
      ],
      "outputs": [],
      "metadata": {
        "id": "bWGZ0daVMiKy"
      }
    },
    {
      "cell_type": "code",
      "execution_count": 23,
      "source": [
        "# YOUR CHANGES HERE\n",
        "\n",
        "p6 = q6[-3:]"
      ],
      "outputs": [],
      "metadata": {
        "id": "OKEnz7J-MpoX"
      }
    },
    {
      "cell_type": "code",
      "execution_count": 24,
      "source": [
        "p6"
      ],
      "outputs": [
        {
          "output_type": "execute_result",
          "data": {
            "text/plain": [
              "[5, 'ghij', 6]"
            ]
          },
          "metadata": {},
          "execution_count": 24
        }
      ],
      "metadata": {
        "id": "7nKI00LWMRz4"
      }
    },
    {
      "cell_type": "markdown",
      "source": [
        "### Problem 7\n",
        "\n",
        "Set `p7` to be the number of distinct items in `q7`."
      ],
      "metadata": {
        "id": "eeZzLUvlJAp1"
      }
    },
    {
      "cell_type": "code",
      "execution_count": 25,
      "source": [
        "# DO NOT CHANGE\n",
        "\n",
        "q7 = []\n",
        "for p in [2, 3, 5, 7]:\n",
        "    for i in range(10):\n",
        "        q7.append(p * i)"
      ],
      "outputs": [],
      "metadata": {
        "id": "GcLSUzAGMuXg"
      }
    },
    {
      "cell_type": "code",
      "execution_count": 28,
      "source": [
        "# YOUR CHANGES HERE\n",
        "\n",
        "p7 = len(set(q7))"
      ],
      "outputs": [],
      "metadata": {
        "id": "ZCPJVNnMM34o"
      }
    },
    {
      "cell_type": "code",
      "execution_count": 29,
      "source": [
        "p7"
      ],
      "outputs": [
        {
          "output_type": "execute_result",
          "data": {
            "text/plain": [
              "29"
            ]
          },
          "metadata": {},
          "execution_count": 29
        }
      ],
      "metadata": {
        "id": "j3D_mbJzMTLn"
      }
    },
    {
      "cell_type": "markdown",
      "source": [
        "### Problem 8\n",
        "\n",
        "Set `p8` to be the number of items in `q8a` that are also in `q8b`."
      ],
      "metadata": {
        "id": "Hph9pVqzJAkO"
      }
    },
    {
      "cell_type": "code",
      "execution_count": 32,
      "source": [
        "# DO NOT CHANGE\n",
        "\n",
        "q8a = [1, 2, 3, 6, 98, 23, 24, 25, 26]"
      ],
      "outputs": [],
      "metadata": {
        "id": "nEXRXKwJNBv6"
      }
    },
    {
      "cell_type": "code",
      "execution_count": 33,
      "source": [
        "# DO NOT CHANGE\n",
        "\n",
        "q8b = [26, 25, 24, 22, 5, 5, 5, 5, 5, 5]"
      ],
      "outputs": [],
      "metadata": {
        "id": "SXZhJ4hKNFyY"
      }
    },
    {
      "cell_type": "code",
      "execution_count": 34,
      "source": [
        "# YOUR CHANGES HERE\n",
        "\n",
        "p8 = len(set(q8a).intersection(set(q8b)))"
      ],
      "outputs": [],
      "metadata": {
        "id": "bKzt-l6RNLfI"
      }
    },
    {
      "cell_type": "code",
      "execution_count": 35,
      "source": [
        "p8"
      ],
      "outputs": [
        {
          "output_type": "execute_result",
          "data": {
            "text/plain": [
              "3"
            ]
          },
          "metadata": {},
          "execution_count": 35
        }
      ],
      "metadata": {
        "id": "fkeQtRu_MUdC"
      }
    },
    {
      "cell_type": "markdown",
      "source": [
        "### Problem 9\n",
        "\n",
        "Create a new dictionary `p9` from the dataset `q9` where each key represents a unique color and maps to a list of all dictionaries containing that color as their color key."
      ],
      "metadata": {
        "id": "_jIWEmiVJAe3"
      }
    },
    {
      "cell_type": "code",
      "execution_count": 44,
      "source": [
        "# DO NOT CHANGE\n",
        "\n",
        "q9 = [{\"color\": \"red\", \"score\": 0.13},\n",
        "      {\"color\": \"blue\", \"score\": 1.00},\n",
        "      {\"color\": \"green\", \"score\": 0.64},\n",
        "      {\"color\": \"red\", \"score\": 0.98},\n",
        "      {\"color\": \"blue\", \"score\": 0.52},\n",
        "      {\"color\": \"violet\", \"score\": 0.25}]"
      ],
      "outputs": [],
      "metadata": {
        "id": "ycA8XTCOpuUj"
      }
    },
    {
      "cell_type": "code",
      "execution_count": 45,
      "source": [
        "# YOUR CHANGES HERE\n",
        "from collections import defaultdict\n",
        "p9 = defaultdict(list)\n",
        "for i in q9:\n",
        "    p9[i['color']].append(i)\n",
        "p9 = dict(p9)"
      ],
      "outputs": [],
      "metadata": {
        "id": "h7F82RDKpu7l"
      }
    },
    {
      "cell_type": "code",
      "execution_count": 46,
      "source": [
        "p9"
      ],
      "outputs": [
        {
          "output_type": "execute_result",
          "data": {
            "text/plain": [
              "{'red': [{'color': 'red', 'score': 0.13}, {'color': 'red', 'score': 0.98}],\n",
              " 'blue': [{'color': 'blue', 'score': 1.0}, {'color': 'blue', 'score': 0.52}],\n",
              " 'green': [{'color': 'green', 'score': 0.64}],\n",
              " 'violet': [{'color': 'violet', 'score': 0.25}]}"
            ]
          },
          "metadata": {},
          "execution_count": 46
        }
      ],
      "metadata": {
        "id": "v-KXyX4KMpO5"
      }
    },
    {
      "cell_type": "markdown",
      "source": [
        "### Problem 10\n",
        "\n",
        "Examine the function `add_data_10` that organizes data into the dictionary `q10` and identify the key used to categorize the data within it."
      ],
      "metadata": {
        "id": "E9uPJNt-JAZA"
      }
    },
    {
      "cell_type": "code",
      "execution_count": 62,
      "source": [
        "# DO NOT CHANGE\n",
        "\n",
        "q10 = {}\n",
        "\n",
        "def add_data_10(row):\n",
        "    if row['score'] < 0:\n",
        "        return\n",
        "\n",
        "    q10.setdefault(row['zipcode'], [])\n",
        "    q10[row['zipcode']].append(row)\n"
      ],
      "outputs": [],
      "metadata": {
        "id": "3W1_fPOIqpo-"
      }
    },
    {
      "cell_type": "code",
      "execution_count": 48,
      "source": [
        "# YOUR CHANGES HERE\n",
        "\n",
        "p10 = 'zipcode'"
      ],
      "outputs": [],
      "metadata": {
        "id": "0L8sGkWqtdIh"
      }
    },
    {
      "cell_type": "code",
      "execution_count": 49,
      "source": [
        "p10"
      ],
      "outputs": [
        {
          "output_type": "execute_result",
          "data": {
            "text/plain": [
              "'zipcode'"
            ]
          },
          "metadata": {},
          "execution_count": 49
        }
      ],
      "metadata": {
        "id": "LFYaLPdUMqIi"
      }
    },
    {
      "cell_type": "markdown",
      "source": [
        "### Problem 11\n",
        "\n",
        "Write a function p11 taking one input $x$ and returning $x^2$."
      ],
      "metadata": {
        "id": "V3LwVKAEJANv"
      }
    },
    {
      "cell_type": "code",
      "execution_count": 51,
      "source": [
        "# YOUR CHANGES HERE\n",
        "\n",
        "def p11(x):\n",
        "    return x*x"
      ],
      "outputs": [],
      "metadata": {
        "id": "iX7t6vlhNbEQ"
      }
    },
    {
      "cell_type": "code",
      "execution_count": 52,
      "source": [
        "p11(0)"
      ],
      "outputs": [
        {
          "output_type": "execute_result",
          "data": {
            "text/plain": [
              "0"
            ]
          },
          "metadata": {},
          "execution_count": 52
        }
      ],
      "metadata": {
        "id": "2gVFJKeyMrIu"
      }
    },
    {
      "cell_type": "code",
      "execution_count": 53,
      "source": [
        "p11(1)"
      ],
      "outputs": [
        {
          "output_type": "execute_result",
          "data": {
            "text/plain": [
              "1"
            ]
          },
          "metadata": {},
          "execution_count": 53
        }
      ],
      "metadata": {
        "id": "HVntsVfrMsC7"
      }
    },
    {
      "cell_type": "code",
      "execution_count": 54,
      "source": [
        "p11(2)"
      ],
      "outputs": [
        {
          "output_type": "execute_result",
          "data": {
            "text/plain": [
              "4"
            ]
          },
          "metadata": {},
          "execution_count": 54
        }
      ],
      "metadata": {
        "id": "lTaPADFLMtCl"
      }
    },
    {
      "cell_type": "code",
      "execution_count": 55,
      "source": [
        "p11(10)"
      ],
      "outputs": [
        {
          "output_type": "execute_result",
          "data": {
            "text/plain": [
              "100"
            ]
          },
          "metadata": {},
          "execution_count": 55
        }
      ],
      "metadata": {
        "id": "LQ7ZmFb8MuNi"
      }
    },
    {
      "cell_type": "code",
      "execution_count": 56,
      "source": [
        "p11(11111)"
      ],
      "outputs": [
        {
          "output_type": "execute_result",
          "data": {
            "text/plain": [
              "123454321"
            ]
          },
          "metadata": {},
          "execution_count": 56
        }
      ],
      "metadata": {
        "id": "Ch75qm8OMvGN"
      }
    },
    {
      "cell_type": "markdown",
      "source": [
        "### Problem 12\n",
        "\n",
        "Write a function `p12` that returns \"even\" if the input is an even number, and \"odd\" if the input is an odd number. You may assume that the input is always an integer."
      ],
      "metadata": {
        "id": "SwsSCn-oK_Le"
      }
    },
    {
      "cell_type": "code",
      "execution_count": 57,
      "source": [
        "# YOUR CHANGES HERE\n",
        "\n",
        "def p12(x) -> str:\n",
        "    if x % 2 == 0:\n",
        "        return \"even\"\n",
        "    return \"odd\""
      ],
      "outputs": [],
      "metadata": {
        "id": "qOU4mHoENlm_"
      }
    },
    {
      "cell_type": "code",
      "execution_count": 58,
      "source": [
        "p12(0)"
      ],
      "outputs": [
        {
          "output_type": "execute_result",
          "data": {
            "text/plain": [
              "'even'"
            ]
          },
          "metadata": {},
          "execution_count": 58
        }
      ],
      "metadata": {
        "id": "h5ZazXH6MyKp"
      }
    },
    {
      "cell_type": "code",
      "execution_count": 59,
      "source": [
        "p12(1)"
      ],
      "outputs": [
        {
          "output_type": "execute_result",
          "data": {
            "text/plain": [
              "'odd'"
            ]
          },
          "metadata": {},
          "execution_count": 59
        }
      ],
      "metadata": {
        "id": "ok2P8pHJMy9y"
      }
    },
    {
      "cell_type": "code",
      "execution_count": 60,
      "source": [
        "p12(100)"
      ],
      "outputs": [
        {
          "output_type": "execute_result",
          "data": {
            "text/plain": [
              "'even'"
            ]
          },
          "metadata": {},
          "execution_count": 60
        }
      ],
      "metadata": {
        "id": "pkyYvZibM0BJ"
      }
    },
    {
      "cell_type": "code",
      "execution_count": 61,
      "source": [
        "p12(999)"
      ],
      "outputs": [
        {
          "output_type": "execute_result",
          "data": {
            "text/plain": [
              "'odd'"
            ]
          },
          "metadata": {},
          "execution_count": 61
        }
      ],
      "metadata": {
        "id": "CMYAmXK_M1ij"
      }
    },
    {
      "cell_type": "markdown",
      "source": [
        "### Problem 13\n",
        "\n",
        "The following code calculates prime numbers less than 100 and stores them in `p13`, but `p13` was not initialized correctly.\n",
        "Fix the initialization of `p13` with an appropriate data type."
      ],
      "metadata": {
        "id": "0R7jYZplK9zL"
      }
    },
    {
      "cell_type": "code",
      "execution_count": 63,
      "source": [
        "# YOUR CHANGES HERE\n",
        "\n",
        "p13 = []"
      ],
      "outputs": [],
      "metadata": {}
    },
    {
      "cell_type": "code",
      "execution_count": 64,
      "source": [
        "# DO NOT CHANGE\n",
        "\n",
        "for i in range(2, 100):\n",
        "    for p in p13:\n",
        "        if i % p == 0:\n",
        "            break\n",
        "    else:\n",
        "        p13.append(i)\n"
      ],
      "outputs": [],
      "metadata": {
        "id": "FHUZPLF5OLKt"
      }
    },
    {
      "cell_type": "code",
      "execution_count": 65,
      "source": [
        "p13"
      ],
      "outputs": [
        {
          "output_type": "execute_result",
          "data": {
            "text/plain": [
              "[2,\n",
              " 3,\n",
              " 5,\n",
              " 7,\n",
              " 11,\n",
              " 13,\n",
              " 17,\n",
              " 19,\n",
              " 23,\n",
              " 29,\n",
              " 31,\n",
              " 37,\n",
              " 41,\n",
              " 43,\n",
              " 47,\n",
              " 53,\n",
              " 59,\n",
              " 61,\n",
              " 67,\n",
              " 71,\n",
              " 73,\n",
              " 79,\n",
              " 83,\n",
              " 89,\n",
              " 97]"
            ]
          },
          "metadata": {},
          "execution_count": 65
        }
      ],
      "metadata": {
        "id": "dCZNsLm3M6ZR"
      }
    },
    {
      "cell_type": "markdown",
      "source": [
        "### Problem 14\n",
        "\n",
        "Write a function `p14` that takes a list of integers and returns a new list containing only those integers that are divisible by 14."
      ],
      "metadata": {
        "id": "c4W3baDrK9lc"
      }
    },
    {
      "cell_type": "code",
      "execution_count": 66,
      "source": [
        "# YOUR CHANGES HERE\n",
        "\n",
        "def p14(ns):\n",
        "    return [n for n in ns if n % 14 == 0]"
      ],
      "outputs": [],
      "metadata": {
        "id": "u4AbsndXtp4C"
      }
    },
    {
      "cell_type": "code",
      "execution_count": 67,
      "source": [
        "p14([])"
      ],
      "outputs": [
        {
          "output_type": "execute_result",
          "data": {
            "text/plain": [
              "[]"
            ]
          },
          "metadata": {},
          "execution_count": 67
        }
      ],
      "metadata": {
        "id": "MPz3TM6WM9uB"
      }
    },
    {
      "cell_type": "code",
      "execution_count": 68,
      "source": [
        "p14([0, 1, 2, 3, 4, 5, 6, 7, 8, 9, 10, 11, 12, 13, 14, 15, 16, 17, 18, 19])"
      ],
      "outputs": [
        {
          "output_type": "execute_result",
          "data": {
            "text/plain": [
              "[0, 14]"
            ]
          },
          "metadata": {},
          "execution_count": 68
        }
      ],
      "metadata": {
        "id": "MaAN_wmlM_gK"
      }
    },
    {
      "cell_type": "markdown",
      "source": [
        "### Problem 15\n",
        "\n",
        "Write a function `p15` that takes in a dictionary as input, and returns `True` if \"x\" is in that dictionary and the value is 15, and `False` otherwise."
      ],
      "metadata": {
        "id": "n3vx4JLXK9L_"
      }
    },
    {
      "cell_type": "code",
      "execution_count": 69,
      "source": [
        "# YOUR CHANGES HERE\n",
        "\n",
        "def p15(d):\n",
        "    if d.get(\"x\") == 15:\n",
        "        return True\n",
        "    return False"
      ],
      "outputs": [],
      "metadata": {
        "id": "-Tcp57jgtws1"
      }
    },
    {
      "cell_type": "code",
      "execution_count": 70,
      "source": [
        "p15({})"
      ],
      "outputs": [
        {
          "output_type": "execute_result",
          "data": {
            "text/plain": [
              "False"
            ]
          },
          "metadata": {},
          "execution_count": 70
        }
      ],
      "metadata": {
        "id": "Iya7nbwrNIQr"
      }
    },
    {
      "cell_type": "code",
      "execution_count": 71,
      "source": [
        "p15({\"x\": 15})"
      ],
      "outputs": [
        {
          "output_type": "execute_result",
          "data": {
            "text/plain": [
              "True"
            ]
          },
          "metadata": {},
          "execution_count": 71
        }
      ],
      "metadata": {
        "id": "o665-5VzNJgu"
      }
    },
    {
      "cell_type": "code",
      "execution_count": 72,
      "source": [
        "p15({\"x\": 16})"
      ],
      "outputs": [
        {
          "output_type": "execute_result",
          "data": {
            "text/plain": [
              "False"
            ]
          },
          "metadata": {},
          "execution_count": 72
        }
      ],
      "metadata": {
        "id": "86KCzgsPNLul"
      }
    },
    {
      "cell_type": "code",
      "execution_count": 73,
      "source": [
        "p15({\"y\": 15})"
      ],
      "outputs": [
        {
          "output_type": "execute_result",
          "data": {
            "text/plain": [
              "False"
            ]
          },
          "metadata": {},
          "execution_count": 73
        }
      ],
      "metadata": {
        "id": "M7Mn42mxNOB5"
      }
    },
    {
      "cell_type": "code",
      "execution_count": 74,
      "source": [
        "p15({\"x\": 15, \"y\": 15})"
      ],
      "outputs": [
        {
          "output_type": "execute_result",
          "data": {
            "text/plain": [
              "True"
            ]
          },
          "metadata": {},
          "execution_count": 74
        }
      ],
      "metadata": {
        "id": "bB16NsNVNPpU"
      }
    },
    {
      "cell_type": "markdown",
      "source": [
        "### Problem 16\n",
        "\n",
        "Set `p16` to be $3.3^4$ (3.3 to the 4th power), rounded down to the nearest whole number.\n",
        "Make sure it is an int, not a float.\n"
      ],
      "metadata": {
        "id": "daebIBs4I-6z"
      }
    },
    {
      "cell_type": "code",
      "execution_count": 79,
      "source": [
        "# YOUR CHANGES HERE\n",
        "import math\n",
        "p16 = math.floor(3.3 ** 4)"
      ],
      "outputs": [],
      "metadata": {
        "id": "CSGcZS7MJGG5"
      }
    },
    {
      "cell_type": "code",
      "execution_count": 82,
      "source": [
        "p16"
      ],
      "outputs": [
        {
          "output_type": "execute_result",
          "data": {
            "text/plain": [
              "118"
            ]
          },
          "metadata": {},
          "execution_count": 82
        }
      ],
      "metadata": {
        "id": "012y9TXNNXxZ"
      }
    },
    {
      "cell_type": "markdown",
      "source": [
        "### Problem 17\n",
        "\n",
        "Python has a built-in function `round` to round a number to a specified number of digits after the decimal point.\n"
      ],
      "metadata": {
        "id": "v3dQYwjHJMnC"
      }
    },
    {
      "cell_type": "code",
      "execution_count": 83,
      "source": [
        "round(1.2345, 2)"
      ],
      "outputs": [
        {
          "output_type": "execute_result",
          "data": {
            "text/plain": [
              "1.23"
            ]
          },
          "metadata": {},
          "execution_count": 83
        }
      ],
      "metadata": {
        "id": "5QSuqhzSJQcL"
      }
    },
    {
      "cell_type": "markdown",
      "source": [
        "Set `p17` to the result of rounding 1.1 + 2.2 to 1 digit after the decimal point.\n"
      ],
      "metadata": {
        "id": "EBNTsep1JQ6W"
      }
    },
    {
      "cell_type": "code",
      "execution_count": 88,
      "source": [
        "# YOUR CHANGES HERE\n",
        "\n",
        "p17 = round((1.1 + 2.2), 1)"
      ],
      "outputs": [],
      "metadata": {
        "id": "_X_MHSm9JVR9"
      }
    },
    {
      "cell_type": "code",
      "execution_count": 89,
      "source": [
        "p17"
      ],
      "outputs": [
        {
          "output_type": "execute_result",
          "data": {
            "text/plain": [
              "3.3"
            ]
          },
          "metadata": {},
          "execution_count": 89
        }
      ],
      "metadata": {
        "id": "c5AxDwk7NZTK"
      }
    },
    {
      "cell_type": "markdown",
      "source": [
        "### Problem 18\n",
        "\n",
        "Python has a built-in function `max` which will return its greatest input."
      ],
      "metadata": {
        "id": "5HnFcb4jJY7o"
      }
    },
    {
      "cell_type": "code",
      "execution_count": 90,
      "source": [
        "max(1, 2, 3, 4, 5)"
      ],
      "outputs": [
        {
          "output_type": "execute_result",
          "data": {
            "text/plain": [
              "5"
            ]
          },
          "metadata": {},
          "execution_count": 90
        }
      ],
      "metadata": {
        "id": "NKPsTKA9J8rq"
      }
    },
    {
      "cell_type": "markdown",
      "source": [
        "Set `p18` to the maximum of $3^{25}$, $25^9$, and $1.1^{1000}$ using the built-in `max` function."
      ],
      "metadata": {
        "id": "To-mUZ4zJ9y1"
      }
    },
    {
      "cell_type": "code",
      "execution_count": 91,
      "source": [
        "# YOUR CHANGES HERE\n",
        "\n",
        "p18 = max(3**25, 25**9, 1.1 * 1000)"
      ],
      "outputs": [],
      "metadata": {
        "id": "DMk-N8_pKCaU"
      }
    },
    {
      "cell_type": "code",
      "execution_count": 92,
      "source": [
        "p18"
      ],
      "outputs": [
        {
          "output_type": "execute_result",
          "data": {
            "text/plain": [
              "3814697265625"
            ]
          },
          "metadata": {},
          "execution_count": 92
        }
      ],
      "metadata": {
        "id": "byXQWD47Nacj"
      }
    },
    {
      "cell_type": "markdown",
      "source": [
        "### Problem 19\n",
        "\n",
        "Set `p19` to the set of tuples in `q19` where the first entry is the string \"red\" or the second entry is \"medium\"."
      ],
      "metadata": {
        "id": "HZZYI-APLDrx"
      }
    },
    {
      "cell_type": "code",
      "execution_count": 94,
      "source": [
        "# DO NOT CHANGE\n",
        "\n",
        "q19 = [(\"red\", \"long\"),\n",
        "       (\"blue\", \"short\"),\n",
        "       (\"red\", \"medium\"),\n",
        "       (\"green\", \"tiny\"),\n",
        "       (\"blue\", \"medium\"),\n",
        "       (\"blue\", \"large\")]"
      ],
      "outputs": [],
      "metadata": {
        "id": "RcsFeZwGt6Sr"
      }
    },
    {
      "cell_type": "code",
      "execution_count": 95,
      "source": [
        "# YOUR CHANGES HERE\n",
        "\n",
        "p19 = [\n",
        "    t\n",
        "    for t in q19\n",
        "    if t[0] == \"red\" or t[1] == \"medium\"\n",
        "]"
      ],
      "outputs": [],
      "metadata": {
        "id": "kMtdLDZNt9w7"
      }
    },
    {
      "cell_type": "code",
      "execution_count": 96,
      "source": [
        "p19"
      ],
      "outputs": [
        {
          "output_type": "execute_result",
          "data": {
            "text/plain": [
              "[('red', 'long'), ('red', 'medium'), ('blue', 'medium')]"
            ]
          },
          "metadata": {},
          "execution_count": 96
        }
      ],
      "metadata": {
        "id": "vJM-6hEcNbtj"
      }
    },
    {
      "cell_type": "markdown",
      "source": [
        "### Problem 20\n",
        "\n",
        "Write a function `p20` that takes in a dictionary as input returns True if all the values match their corresponding keys. For example, if the input was `{\"hi\": \"hi\"}`, then it should return `True`."
      ],
      "metadata": {
        "id": "i5r5TdcILE8R"
      }
    },
    {
      "cell_type": "code",
      "execution_count": 97,
      "source": [
        "# YOUR CHANGES HERE\n",
        "\n",
        "def p20(d):\n",
        "    for k,v in d.items():\n",
        "        if k != v:\n",
        "            return False\n",
        "    return True"
      ],
      "outputs": [],
      "metadata": {
        "id": "QFpWFVpQAN1U"
      }
    },
    {
      "cell_type": "code",
      "execution_count": 98,
      "source": [
        "p20({})"
      ],
      "outputs": [
        {
          "output_type": "execute_result",
          "data": {
            "text/plain": [
              "True"
            ]
          },
          "metadata": {},
          "execution_count": 98
        }
      ],
      "metadata": {
        "id": "FzCHcYRvNc9C"
      }
    },
    {
      "cell_type": "code",
      "execution_count": 99,
      "source": [
        "p20({\"x\": \"x\"})"
      ],
      "outputs": [
        {
          "output_type": "execute_result",
          "data": {
            "text/plain": [
              "True"
            ]
          },
          "metadata": {},
          "execution_count": 99
        }
      ],
      "metadata": {
        "id": "AjoWVEYWNd9V"
      }
    },
    {
      "cell_type": "code",
      "execution_count": 100,
      "source": [
        "p20({\"x\": \"x\", \"y\": \"y\"})"
      ],
      "outputs": [
        {
          "output_type": "execute_result",
          "data": {
            "text/plain": [
              "True"
            ]
          },
          "metadata": {},
          "execution_count": 100
        }
      ],
      "metadata": {
        "id": "HaFwX6vLNftw"
      }
    },
    {
      "cell_type": "code",
      "execution_count": 101,
      "source": [
        "p20({\"x\": \"x\", \"y\": \"z\"})"
      ],
      "outputs": [
        {
          "output_type": "execute_result",
          "data": {
            "text/plain": [
              "False"
            ]
          },
          "metadata": {},
          "execution_count": 101
        }
      ],
      "metadata": {
        "id": "r25Ib6PzNipD"
      }
    }
  ],
  "metadata": {
    "colab": {
      "toc_visible": false
    },
    "kernelspec": {
      "name": "python3",
      "display_name": "Python 3.13.5 64-bit ('base': conda)"
    },
    "language_info": {
      "codemirror_mode": {
        "name": "ipython",
        "version": 3
      },
      "file_extension": ".py",
      "mimetype": "text/x-python",
      "name": "python",
      "nbconvert_exporter": "python",
      "pygments_lexer": "ipython3",
      "version": "3.13.5"
    },
    "interpreter": {
      "hash": "e134e05457d34029b6460cd73bbf1ed73f339b5b6d98c95be70b69eba114fe95"
    }
  },
  "nbformat": 4,
  "nbformat_minor": 2
}